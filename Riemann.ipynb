{
 "cells": [
  {
   "cell_type": "code",
   "execution_count": 4,
   "id": "6ab5a861",
   "metadata": {},
   "outputs": [
    {
     "name": "stdout",
     "output_type": "stream",
     "text": [
      "Enter the function (use 'np' for NumPy functions): x\n",
      "Enter the lower limit of x range: 0\n",
      "Enter the number of rectangles for Riemann sum: 2\n"
     ]
    },
    {
     "data": {
      "application/vnd.jupyter.widget-view+json": {
       "model_id": "327ffd56686441f69e6c060cb9cdeef6",
       "version_major": 2,
       "version_minor": 0
      },
      "text/plain": [
       "interactive(children=(Text(value='x', description='equation'), FloatSlider(value=0.0, description='a', max=1.0…"
      ]
     },
     "metadata": {},
     "output_type": "display_data"
    },
    {
     "data": {
      "text/plain": [
       "<function __main__.interactive_plot(equation, a, b_slider, num_rectangles)>"
      ]
     },
     "execution_count": 4,
     "metadata": {},
     "output_type": "execute_result"
    }
   ],
   "source": [
    "import numpy as np\n",
    "import matplotlib.pyplot as plt\n",
    "from scipy.integrate import quad\n",
    "from ipywidgets import interact, widgets\n",
    "\n",
    "def riemann_sum(func, a, b, num_rectangles):\n",
    "    dx = (b - a) / num_rectangles\n",
    "    x_values = np.linspace(a, b, num_rectangles + 1)\n",
    "    midpoints = (x_values[:-1] + x_values[1:]) / 2\n",
    "    y_midpoints = func(midpoints)\n",
    "    areas = y_midpoints * dx\n",
    "    total_area = np.sum(areas)\n",
    "    return total_area, x_values, y_midpoints\n",
    "\n",
    "\n",
    "def plot_function(func, a, b, num_rectangles, title=\"Graph of the Function\"):\n",
    "    x = np.linspace(a, b, 100)\n",
    "    y = func(x)\n",
    "\n",
    "    plt.figure(figsize=(8, 6))\n",
    "    plt.plot(x, y, label=f'Function: {str(func)}')\n",
    "    plt.fill_between(x, y, alpha=0.2)\n",
    "\n",
    "    # Plot rectangles\n",
    "    dx = (b - a) / num_rectangles\n",
    "    for i in range(num_rectangles):\n",
    "        rect_x = [a + i * dx, a + (i + 1) * dx, a + (i + 1) * dx, a + i * dx, a + i * dx]\n",
    "        rect_y = [0, 0, func(a + (i + 1) * dx), func(a + i * dx), 0]\n",
    "        plt.plot(rect_x, rect_y, color='red', alpha=0.5)\n",
    "\n",
    "    plt.title(title)\n",
    "    plt.xlabel('x')\n",
    "    plt.ylabel('y')\n",
    "    plt.legend()\n",
    "    plt.grid(True)\n",
    "    plt.show()\n",
    "\n",
    "def interactive_plot(equation, a, b_slider, num_rectangles):\n",
    "    func = lambda x: eval(equation)\n",
    "    b = b_slider  # Use the slider value for the upper limit\n",
    "\n",
    "    # Calculate Riemann sum\n",
    "    riemann_area, x_values, y_values = riemann_sum(func, a, b, num_rectangles)\n",
    "\n",
    "    # Plot the function with rectangles\n",
    "    plot_function(func, a, b, num_rectangles)\n",
    "\n",
    "    # Display results\n",
    "    print(f\"\\nRiemann Sum Area: {riemann_area}\")\n",
    "    print(f\"Actual Area Under the Curve: {quad(func, a, b)[0]}\")\n",
    "    print(f\"Absolute Error: {abs(quad(func, a, b)[0] - riemann_area)}\")\n",
    "\n",
    "# Get user input\n",
    "equation = input(\"Enter the function (use 'np' for NumPy functions): \")\n",
    "a = float(input(\"Enter the lower limit of x range: \"))\n",
    "b_slider = widgets.FloatSlider(value=1.0, min=a, max=a + 10, step=0.1, description='Upper limit of x range:')\n",
    "num_rectangles = int(input(\"Enter the number of rectangles for Riemann sum: \"))\n",
    "\n",
    "# Create interactive plot\n",
    "interact(interactive_plot, equation=equation, a=a, b_slider=b_slider, num_rectangles=num_rectangles)\n"
   ]
  },
  {
   "cell_type": "code",
   "execution_count": null,
   "id": "0016fb3c",
   "metadata": {},
   "outputs": [],
   "source": []
  }
 ],
 "metadata": {
  "kernelspec": {
   "display_name": "Python 3 (ipykernel)",
   "language": "python",
   "name": "python3"
  },
  "language_info": {
   "codemirror_mode": {
    "name": "ipython",
    "version": 3
   },
   "file_extension": ".py",
   "mimetype": "text/x-python",
   "name": "python",
   "nbconvert_exporter": "python",
   "pygments_lexer": "ipython3",
   "version": "3.9.13"
  }
 },
 "nbformat": 4,
 "nbformat_minor": 5
}
